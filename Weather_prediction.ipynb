{
  "nbformat": 4,
  "nbformat_minor": 0,
  "metadata": {
    "colab": {
      "provenance": [],
      "authorship_tag": "ABX9TyPjwJS8DmNDeclGzmLJrQQo",
      "include_colab_link": true
    },
    "kernelspec": {
      "name": "python3",
      "display_name": "Python 3"
    },
    "language_info": {
      "name": "python"
    }
  },
  "cells": [
    {
      "cell_type": "markdown",
      "metadata": {
        "id": "view-in-github",
        "colab_type": "text"
      },
      "source": [
        "<a href=\"https://colab.research.google.com/github/Shristi0124/Weather-prediction/blob/main/Weather_prediction.ipynb\" target=\"_parent\"><img src=\"https://colab.research.google.com/assets/colab-badge.svg\" alt=\"Open In Colab\"/></a>"
      ]
    },
    {
      "cell_type": "code",
      "execution_count": null,
      "metadata": {
        "id": "-N7U9OujxaTI"
      },
      "outputs": [],
      "source": [
        "import requests #This libarary help us to fech data from API\n",
        "import pandas as pd # for handaling and analysing data\n",
        "import numpy as np #for numerical operation\n",
        "from sklearn.model_selection import train_test_split # to split data into trainig and testing sets\n",
        "from sklearn.preprocessing import LabelEncoder # to convert cetogorical data into numericals values\n",
        "from sklearn.ensemble import RandomForestClassifier , RandomForestRegressor # model for classification and regression tasks\n",
        "from sklearn.metrics import mean_squared_error #to measure the accuracy of our prediction\n",
        "from datetime import datetime , timedelta # to handle data and time\n",
        "import pytz"
      ]
    },
    {
      "cell_type": "code",
      "source": [
        "API_KEY= '71774b38b5f0c49b1b75d5fa195b63a9'  # REPLACE WITH YOUR ACUTAL API KEY\n",
        "BASE_URL = 'https://api.openweathermap.org/data/2.5/'# Base url for making API requests"
      ],
      "metadata": {
        "id": "AF1K_dFVxuV1"
      },
      "execution_count": null,
      "outputs": []
    },
    {
      "cell_type": "markdown",
      "source": [
        "Fetch Current Weather  data"
      ],
      "metadata": {
        "id": "xsdEscet3Lki"
      }
    },
    {
      "cell_type": "code",
      "source": [
        "def get_current_weather(city):\n",
        "  url= f\"{BASE_URL}/weather?q={city}&appid={API_KEY}&units=metric\" # construct the API request URL\n",
        "  response = requests.get(url)  # send the get request to  API\n",
        "  data = response.json()\n",
        "  if response.status_code != 200:\n",
        "      print(f\"Error fetching weather data for {city}: {data.get('message', 'Unknown error')}\")\n",
        "      return None\n",
        "  return{\n",
        "      'city': data['name'],\n",
        "      'current_temp': round(data['main']['temp']),\n",
        "      'feels_like':round(data['main']['feels_like']),\n",
        "      'temp_min': round(data['main']['temp_min']),\n",
        "      'temp_max': round(data['main']['temp_max']),\n",
        "      'humidity': round(data['main']['humidity']),\n",
        "      'description': data['weather'][0]['description'],\n",
        "      'country': data['sys']['country'],\n",
        "      'wind_gust_dir':data['wind']['deg'],\n",
        "      'pressure' : data['main']['pressure'],\n",
        "      'Wind_Gust_Speed':data['wind']['speed']\n",
        "\n",
        "  }"
      ],
      "metadata": {
        "id": "cxG9MxTL3DyR"
      },
      "execution_count": null,
      "outputs": []
    },
    {
      "cell_type": "markdown",
      "source": [
        "2. Read Historical Data"
      ],
      "metadata": {
        "id": "nUudq7v76I9-"
      }
    },
    {
      "cell_type": "code",
      "source": [
        "def read_historical_data(filename):\n",
        "  df= pd .read_csv(filename) #load csv file into dataFrame\n",
        "  df = df.dropna() # remove rows with missing values\n",
        "  df = df.drop_duplicates()\n",
        "  return df\n"
      ],
      "metadata": {
        "id": "a4eVl0AP4knE"
      },
      "execution_count": null,
      "outputs": []
    },
    {
      "cell_type": "markdown",
      "source": [
        "3. prepare data for training"
      ],
      "metadata": {
        "id": "WOPD0oSqdQqh"
      }
    },
    {
      "cell_type": "code",
      "source": [
        "def prepare_data(data):\n",
        "  le = LabelEncoder()  #  create a LableEncoder instance\n",
        "\n",
        "  # Define all possible compass points\n",
        "  compass_points_list = [\n",
        "      \"Ν\", \"NNE\", \"NE\", \"ΕΝΕ\", \"Ε\", \"ESE\", \"SE\", \"SSE\", \"S\", \"SSW\", \"SW\",\n",
        "      \"WSW\", \"W\", \"WNW\", \"NW\", \"NNW\"\n",
        "  ]\n",
        "\n",
        "  # Combine historical data wind directions with all compass points for fitting the encoder\n",
        "  all_wind_dirs = pd.concat([data['WindGustDir'], pd.Series(compass_points_list)]).unique()\n",
        "\n",
        "  le.fit(all_wind_dirs)\n",
        "\n",
        "  data['WindGustDir'] =le.transform(data['WindGustDir'])\n",
        "\n",
        "  # Fit the LabelEncoder on the possible values for 'RainTomorrow'\n",
        "  le_rain = LabelEncoder()\n",
        "  le_rain.fit(['Yes', 'No'])\n",
        "  data['RainTomorrow'] = le_rain.transform(data['RainTomorrow'])\n",
        "\n",
        "\n",
        "  #define the feature variable and target variables\n",
        "  X = data[['MinTemp','MaxTemp' , 'WindGustDir','WindGustSpeed','Humidity','Pressure','Temp']] #feature variable\n",
        "  y = data['RainTomorrow'] # traget variable\n",
        "\n",
        "\n",
        "  return X,y,le_rain # return feture variable , target variable and the lable encoder for rain"
      ],
      "metadata": {
        "id": "KKOBZYNh8Pi_"
      },
      "execution_count": null,
      "outputs": []
    },
    {
      "cell_type": "markdown",
      "source": [
        "4. Train Rain predictin Model"
      ],
      "metadata": {
        "id": "bKWsdD_5nIE-"
      }
    },
    {
      "cell_type": "code",
      "source": [
        "def train_rain_model(X,y):\n",
        "  X_train ,X_test ,y_train , y_test = train_test_split(X,y,test_size=0.2, random_state= 42)\n",
        "  model = RandomForestClassifier(n_estimators=100, random_state= 42)\n",
        "  model.fit(X_train,y_train)     #train the model\n",
        "\n",
        "  y_pred = model.predict(X_test)   #to make prediction on test set\n",
        "\n",
        "  print(\"Mean Squared Error for Rain Model\")\n",
        "\n",
        "  print(mean_squared_error(y_test,y_pred))\n",
        "\n",
        "  return model"
      ],
      "metadata": {
        "id": "kr4JgBWum6Ne"
      },
      "execution_count": null,
      "outputs": []
    },
    {
      "cell_type": "markdown",
      "source": [
        "5. prepare regrassion data"
      ],
      "metadata": {
        "id": "Dj0mvKc6pfhk"
      }
    },
    {
      "cell_type": "code",
      "source": [
        "def prepare_regression_data(data,feature):\n",
        "  X,y = [], []  # initialize list for feature and target value\n",
        "\n",
        "  if len(data) < 2:  # Check if there are enough data points\n",
        "      return X, y\n",
        "\n",
        "  for i  in range(len(data)-1):\n",
        "    X.append(data[feature].iloc[i])\n",
        "    y.append(data[feature].iloc[i+1])\n",
        "\n",
        "  X = np.array(X).reshape(-1,1)\n",
        "  y= np.array(y)\n",
        "\n",
        "\n",
        "  return X,y"
      ],
      "metadata": {
        "id": "mH1C_Rd5pevv"
      },
      "execution_count": null,
      "outputs": []
    },
    {
      "cell_type": "code",
      "source": [
        "def train_regression_model(X,y):\n",
        "  model = RandomForestRegressor(n_estimators=100, random_state=42)\n",
        "  model.fit(X,y)\n",
        "\n",
        "  return model"
      ],
      "metadata": {
        "id": "EfbtCT1UGfxY"
      },
      "execution_count": null,
      "outputs": []
    },
    {
      "cell_type": "markdown",
      "source": [
        "Peredict future"
      ],
      "metadata": {
        "id": "cLpChGK8G6Lk"
      }
    },
    {
      "cell_type": "code",
      "source": [
        "def predict_future(model , current_value):\n",
        "  predictions = [current_value]\n",
        "  #return model # This line was causing the function to return the model prematurely\n",
        "\n",
        "  for i in range (5):\n",
        "    # Use the correct method name 'predict' instead of 'prediction'\n",
        "    next_value = model.predict(np.array([[predictions[-1]]]))\n",
        "\n",
        "    predictions.append(next_value[0])\n",
        "\n",
        "\n",
        "  return predictions[1:]"
      ],
      "metadata": {
        "id": "M9pmuyB_G2Jn"
      },
      "execution_count": null,
      "outputs": []
    },
    {
      "cell_type": "markdown",
      "source": [
        "Weather Anaylsis Funtion"
      ],
      "metadata": {
        "id": "pxaLlEcJHze7"
      }
    },
    {
      "cell_type": "code",
      "source": [
        "from time import timezone\n",
        "import pytz\n",
        "from datetime import datetime , timedelta\n",
        "import pandas as pd\n",
        "import numpy as np\n",
        "from sklearn.preprocessing import LabelEncoder\n",
        "\n",
        "def weather_view():\n",
        "  city = input('Enter  any city name :')\n",
        "  current_weather = get_current_weather(city)\n",
        "\n",
        "  if current_weather is None:\n",
        "      return\n",
        "\n",
        "  #load historical data\n",
        "\n",
        "  historical_data = read_historical_data('/content/weather.csv')\n",
        "\n",
        "  #prepare and train the rain prediction model\n",
        "\n",
        "  X,y,le = prepare_data(historical_data)\n",
        "\n",
        "  rain_model = train_rain_model(X,y)\n",
        "  wind_deg = current_weather['wind_gust_dir']% 360\n",
        "  compass_points =[\n",
        "\n",
        "      (\"Ν\", 0, 11.25), (\"NNE\", 11.25, 33.75), (\"NE\", 33.75, 56.25),\n",
        "(\"ΕΝΕ\", 56.25, 78.75), (\"Ε\", 78.75, 101.25), (\"ESE\", 101.25, 123.75),\n",
        "(\"SE\", 123.75, 146.25), (\"SSE\", 146.25, 168.75), (\"S\", 168.75, 191.25), (\"SSW\", 191.25, 213.75), (\"SW\", 213.75, 236.25), (\"WSW\", 236.25, 258.75),\n",
        "(\"W\", 258.75, 281.25), (\"WNW\", 281.25, 303.75), (\"NW\", 303.75, 326.25),\n",
        "(\"NNW\", 326.25, 348.75)\n",
        "  ]\n",
        "  compass_direction =next(point for point,start, end in compass_points if start <= wind_deg  <end)\n",
        "\n",
        "  compass_direction_encoded = le.transform([compass_direction])[0] if compass_direction in  le.classes_ else -1\n",
        "\n",
        "  current_data = {\n",
        "      'MinTemp': current_weather['temp_min'],\n",
        "      'MaxTemp': current_weather['temp_max'],\n",
        "      'WindGustDir':compass_direction_encoded,\n",
        "      'WindGustSpeed':current_weather['Wind_Gust_Speed'],\n",
        "      'Humidity':current_weather['humidity'],\n",
        "      'Pressure':current_weather['pressure'],\n",
        "      'Temp':current_weather['current_temp'],\n",
        "\n",
        "  }\n",
        "\n",
        "  current_df =pd.DataFrame([current_data])\n",
        "\n",
        "\n",
        "  #rain prediction\n",
        "\n",
        "  rain_prediction = rain_model.predict(current_df)[0]\n",
        "\n",
        "\n",
        "  #prepare regression model for temperature and humidity\n",
        "\n",
        "  X_temp , y_temp = prepare_regression_data(historical_data, 'Temp')\n",
        "\n",
        "  X_hum, y_hum = prepare_regression_data(historical_data ,'Humidity')\n",
        "\n",
        "  # Check if there is enough data for regression before training and predicting\n",
        "  if X_temp.size > 0 and X_hum.size > 0:\n",
        "    temp_model = train_regression_model(X_temp,y_temp)\n",
        "    hum_model = train_regression_model(X_hum, y_hum)\n",
        "\n",
        "\n",
        "    #predict future temperature and humidity\n",
        "\n",
        "\n",
        "    future_temp = predict_future(temp_model,current_weather['temp_min'])\n",
        "\n",
        "\n",
        "\n",
        "    future_humidity = predict_future(hum_model,current_weather['humidity'])\n",
        "\n",
        "  else:\n",
        "      future_temp = []\n",
        "      future_humidity = []\n",
        "      print(\"Insufficient historical data to train regression models for future predictions.\")\n",
        "\n",
        "\n",
        "  #prepare time for future predictions\n",
        "\n",
        "  timezone = pytz.timezone('Asia/Karachi')\n",
        "  now = datetime.now(timezone)\n",
        "  next_hour = now + timedelta(hours=1)\n",
        "  next_hours = next_hour.replace(minute=0, second = 0 , microsecond = 0 )\n",
        "\n",
        "  future_times = [(next_hour +timedelta(hours=i)).strftime(\"%H:00\") for i in range(5)]\n",
        "\n",
        "\n",
        "   # Display results\n",
        "  print(f\"City: {city}, {current_weather['country']}\")\n",
        "  print(f\"Current Temperature: {current_weather['current_temp']}°C\")\n",
        "  print(f\"Feels Like: {current_weather['feels_like']}°C\")\n",
        "  print(f\"Minimum Temperature: {current_weather['temp_min']}°C\")\n",
        "  print(f\"Maximum Temperature: {current_weather['temp_max']}°C\")\n",
        "  print(f\"Humidity: {current_weather['humidity']}%\")\n",
        "  print(f\"Weather Description: {current_weather['description']}\")\n",
        "  print(f\"Rain Prediction: {'Yes' if rain_prediction else 'No'}\")\n",
        "  print(f\"\\nFuture Temperature Predictions:\")\n",
        "\n",
        "  for time , temp in zip(future_times,future_temp):\n",
        "\n",
        "\n",
        "    print(f\"{time}: {round(temp ,1)}°C\")\n",
        "  print(\"\\nFuture Humidity Predictions:\")\n",
        "\n",
        "  for time , humidity in zip(future_times,future_humidity):\n",
        "     print(f\"{time}: {round(humidity ,1)}°C\")\n",
        "weather_view()"
      ],
      "metadata": {
        "id": "gDh26dYyHP4z",
        "colab": {
          "base_uri": "https://localhost:8080/"
        },
        "outputId": "f9c57140-644b-48f4-e768-1f1f93d0c02b"
      },
      "execution_count": null,
      "outputs": [
        {
          "output_type": "stream",
          "name": "stdout",
          "text": [
            "Enter  any city name :dehradun\n",
            "Mean Squared Error for Rain Model\n",
            "0.1506849315068493\n",
            "City: dehradun, IN\n",
            "Current Temperature: 23°C\n",
            "Feels Like: 24°C\n",
            "Minimum Temperature: 23°C\n",
            "Maximum Temperature: 23°C\n",
            "Humidity: 98%\n",
            "Weather Description: moderate rain\n",
            "Rain Prediction: Yes\n",
            "\n",
            "Future Temperature Predictions:\n",
            "03:00: 18.9°C\n",
            "04:00: 23.1°C\n",
            "05:00: 18.0°C\n",
            "06:00: 20.6°C\n",
            "07:00: 21.3°C\n",
            "\n",
            "Future Humidity Predictions:\n",
            "03:00: 67.2°C\n",
            "04:00: 76.3°C\n",
            "05:00: 61.9°C\n",
            "06:00: 56.5°C\n",
            "07:00: 40.7°C\n"
          ]
        }
      ]
    },
    {
      "cell_type": "markdown",
      "source": [],
      "metadata": {
        "id": "qswrwx1RbL93"
      }
    },
    {
      "cell_type": "markdown",
      "source": [],
      "metadata": {
        "id": "6xuUFxegz8rc"
      }
    }
  ]
}